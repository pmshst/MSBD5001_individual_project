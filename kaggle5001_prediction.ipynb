{
 "cells": [
  {
   "cell_type": "code",
   "execution_count": 14,
   "metadata": {},
   "outputs": [],
   "source": [
    "from sklearn.model_selection import cross_val_score\n",
    "import matplotlib.pyplot as plt\n",
    "from sklearn.ensemble import AdaBoostClassifier\n",
    "from sklearn.ensemble import RandomForestClassifier\n",
    "from sklearn.metrics import accuracy_score\n",
    "from sklearn.ensemble import GradientBoostingClassifier\n",
    "from sklearn.ensemble import GradientBoostingRegressor\n",
    "from sklearn.model_selection import cross_val_predict\n",
    "from sklearn.metrics import mean_squared_error\n",
    "from sklearn.tree import DecisionTreeRegressor\n",
    "from sklearn.ensemble import AdaBoostRegressor\n",
    "import pandas as pd\n",
    "import numpy as np\n",
    "from sklearn.ensemble import ExtraTreesRegressor\n",
    "\n",
    "# Set random seed\n",
    "np.random.seed(0)\n",
    "# the dir of train.csv and test.csv\n",
    "workdic='./'\n",
    "df = pd.read_csv(workdic + \"train.csv\")\n",
    "y = df['time']\n",
    "def times(a, b):\n",
    "    return a * b\n",
    "def change_clo(df):\n",
    "  mask = df.n_jobs <0 \n",
    "  mask1 = df.n_jobs >9\n",
    "  column_name = 'n_jobs'\n",
    "  df.loc[mask, column_name] = 9\n",
    "  df.loc[mask1, column_name] = 9\n",
    "  return df\n",
    "df = change_clo(df)\n",
    "df['data_num'] = df.apply(lambda row: times(row['n_samples'], row['n_features']), axis=1)\n",
    "df['max_scan'] = df.apply(lambda row: times(row['data_num'], row['max_iter']), axis=1)\n",
    "df['max_scan_alpha'] = df.apply(lambda row: times(row['max_scan'], row['alpha']), axis=1)\n",
    "df['max_scan_n_jobs'] = df.apply(lambda row: times(row['max_scan'], 1/row['n_jobs']), axis=1)\n",
    "df['max_scan_n_classes'] = df.apply(lambda row: times(row['max_scan'], row['n_classes']), axis=1)\n",
    "df['max_scan_n_classes_job'] = df.apply(lambda row: times(row['max_scan_n_classes'], 1/row['n_jobs']), axis=1)\n",
    "df['data_num_job'] = df.apply(lambda row: times(row['data_num'], 1/row['n_jobs']), axis=1)\n",
    "df['max_time'] = np.max(df['time'])\n",
    "df['min_time'] = np.min(df['time'])\n",
    "df['mean_time'] = np.mean(df['time'])\n",
    "df['median_time'] = np.median(df['time'])\n",
    "df['sum_time'] = np.sum(df['time'])\n",
    "df['var_time'] = np.var(df['time'])\n",
    "df['std_time'] = np.std(df['time'])\n",
    "tmp_df = df\n",
    "test_df = pd.read_csv(workdic + \"test.csv\")\n",
    "test_df = change_clo(test_df)\n",
    "test_df['data_num'] = test_df.apply(lambda row: times(row['n_samples'], row['n_features']), axis=1)\n",
    "test_df['max_scan'] = test_df.apply(lambda row: times(row['data_num'], row['max_iter']), axis=1)\n",
    "test_df['max_scan_alpha'] = test_df.apply(lambda row: times(row['max_scan'], row['alpha']), axis=1)\n",
    "test_df['max_scan_n_jobs'] = test_df.apply(lambda row: times(row['max_scan'], 1/row['n_jobs']), axis=1)\n",
    "test_df['max_scan_n_classes'] = test_df.apply(lambda row: times(row['max_scan'], row['n_classes']), axis=1)\n",
    "test_df['max_scan_n_classes_job'] = test_df.apply(lambda row: times(row['max_scan_n_classes'], 1/row['n_jobs']), axis=1)\n",
    "test_df['data_num_job'] = test_df.apply(lambda row: times(row['data_num'], 1/row['n_jobs']), axis=1)\n",
    "test_df['max_time'] = np.max(df['time'])\n",
    "test_df['min_time'] = np.min(df['time'])\n",
    "test_df['mean_time'] = np.mean(df['time'])\n",
    "test_df['median_time'] = np.median(df['time'])\n",
    "test_df['sum_time'] = np.sum(df['time'])\n",
    "test_df['var_time'] = np.var(df['time'])\n",
    "test_df['std_time'] = np.std(df['time'])\n",
    "del tmp_df['id']\n",
    "del tmp_df['time']\n",
    "x = pd.get_dummies(tmp_df)\n",
    "test_id=test_df['id']\n",
    "del test_df['id']\n",
    "output_df = pd.DataFrame(columns = ['Id','time'])\n",
    "output_df['Id'] = test_id\n",
    "X_test = pd.get_dummies(test_df)\n",
    "features = x.columns[:len(x.columns)]\n",
    "test_features = X_test.columns[:len(X_test.columns)]\n",
    "for i in features:\n",
    "    if i not in test_features:\n",
    "        print(i)\n",
    "        X_test[i] = 0\n"
   ]
  },
  {
   "cell_type": "code",
   "execution_count": 17,
   "metadata": {},
   "outputs": [
    {
     "name": "stdout",
     "output_type": "stream",
     "text": [
      "mse: 2.4325566398056266\n"
     ]
    },
    {
     "data": {
      "text/plain": [
       "ExtraTreesRegressor(bootstrap=False, criterion='mse', max_depth=50,\n",
       "          max_features='auto', max_leaf_nodes=None,\n",
       "          min_impurity_decrease=0.0, min_impurity_split=None,\n",
       "          min_samples_leaf=1, min_samples_split=3,\n",
       "          min_weight_fraction_leaf=0.0, n_estimators=3000, n_jobs=-1,\n",
       "          oob_score=False, random_state=0, verbose=0, warm_start=False)"
      ]
     },
     "execution_count": 17,
     "metadata": {},
     "output_type": "execute_result"
    }
   ],
   "source": [
    "'''\n",
    "best                          \n",
    "1.66171,                          \n",
    "\n",
    "etr = ExtraTreesRegressor(n_estimators=3000,random_state=0, max_depth=50, \n",
    "                          bootstrap=False, n_jobs=-1, min_samples_split=3,\n",
    "'''\n",
    "\n",
    "etr = ExtraTreesRegressor(n_estimators=3000,random_state=0, max_depth=50, \n",
    "                          bootstrap=False, n_jobs=-1, min_samples_split=3)\n",
    "predicted = cross_val_predict(etr, x, y, cv=4)\n",
    "mse = mean_squared_error(y, predicted)\n",
    "print('mse:',mse)\n",
    "etr.fit(x,y)\n"
   ]
  },
  {
   "cell_type": "code",
   "execution_count": 19,
   "metadata": {},
   "outputs": [],
   "source": [
    "predi_y = etr.predict(X_test)\n",
    "test_df['time'] = predi_y\n",
    "output_df['time'] = predi_y\n",
    "output_df.to_csv('etr_Submission_1122.csv', index=False)"
   ]
  },
  {
   "cell_type": "code",
   "execution_count": null,
   "metadata": {},
   "outputs": [],
   "source": []
  }
 ],
 "metadata": {
  "kernelspec": {
   "display_name": "Python 3",
   "language": "python",
   "name": "python3"
  },
  "language_info": {
   "codemirror_mode": {
    "name": "ipython",
    "version": 3
   },
   "file_extension": ".py",
   "mimetype": "text/x-python",
   "name": "python",
   "nbconvert_exporter": "python",
   "pygments_lexer": "ipython3",
   "version": "3.6.5"
  }
 },
 "nbformat": 4,
 "nbformat_minor": 2
}
